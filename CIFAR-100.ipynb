version https://git-lfs.github.com/spec/v1
oid sha256:435f7d74bc723785d13da5c43c8c22f0781ba02fb776b0099a4e5bbd67017408
size 530409
